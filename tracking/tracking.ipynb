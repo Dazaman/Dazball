{
 "cells": [
  {
   "cell_type": "code",
   "execution_count": 8,
   "metadata": {},
   "outputs": [
    {
     "name": "stdout",
     "output_type": "stream",
     "text": [
      "4.5.5\n"
     ]
    }
   ],
   "source": [
    "import numpy as np\n",
    "import os\n",
    "import cv2\n",
    "from matplotlib import pyplot as plt\n",
    "print(cv2.__version__)\n",
    "\n",
    "from collections import defaultdict\n",
    "import sys\n",
    "import numpy as np\n",
    "import matplotlib.pyplot as plt\n",
    "import pandas as pd\n",
    "from mplsoccer.pitch import Pitch\n",
    "from matplotlib import animation\n",
    "from pykalman import KalmanFilter\n",
    "import time\n",
    "from scipy.ndimage.filters import gaussian_filter1d\n",
    "pd.options.display.max_columns = None\n",
    "pd.options.display.max_rows = None\n",
    "from scipy.signal import savgol_filter\n",
    "from ast import literal_eval as leval\n",
    "import matplotlib.image as mpimg"
   ]
  },
  {
   "cell_type": "code",
   "execution_count": 2,
   "metadata": {},
   "outputs": [],
   "source": [
    "# Read Video\n",
    "video = cv2.VideoCapture('italy.mp4')"
   ]
  },
  {
   "cell_type": "code",
   "execution_count": 3,
   "metadata": {},
   "outputs": [
    {
     "name": "stdout",
     "output_type": "stream",
     "text": [
      "750 images extracted to frames\n"
     ]
    }
   ],
   "source": [
    "#Extract Frames\n",
    "count = 0\n",
    "while True:\n",
    "    success, image = video.read()\n",
    "    if not success:\n",
    "        break\n",
    "    cv2.imwrite(f'frames/frame{count}.jpg', image)\n",
    "    count += 1\n",
    "\n",
    "print(f'{count} images extracted to frames')"
   ]
  },
  {
   "cell_type": "code",
   "execution_count": 4,
   "metadata": {},
   "outputs": [],
   "source": [
    "#Crop frames to make smaller video\n",
    "\n",
    "folder = 'frames'\n",
    "img_array = []\n",
    "\n",
    "for i in range(360,459):\n",
    "    filename = os.path.join(folder, 'frame'+str(i)+'.jpg')\n",
    "    img = cv2.imread(filename)\n",
    "    height, width, layers = img.shape\n",
    "    size = (width,height)\n",
    "    img_array.append(img)\n",
    "\n",
    "out = cv2.VideoWriter('croppeditaly.mp4',cv2.VideoWriter_fourcc(*'DIVX'), 15, size)\n",
    "\n",
    "for i in range(len(img_array)):\n",
    "    out.write(img_array[i])\n",
    "\n",
    "out.release()"
   ]
  },
  {
   "cell_type": "code",
   "execution_count": 63,
   "metadata": {},
   "outputs": [],
   "source": [
    "TrDict = {'csrt':cv2.legacy.TrackerCSRT_create, \"kcf\": cv2.legacy.TrackerKCF_create, \"mosse\": cv2.legacy.TrackerMOSSE_create}"
   ]
  },
  {
   "cell_type": "code",
   "execution_count": 64,
   "metadata": {},
   "outputs": [],
   "source": [
    "trackers = cv2.legacy.MultiTracker_create()"
   ]
  },
  {
   "cell_type": "code",
   "execution_count": 65,
   "metadata": {},
   "outputs": [],
   "source": [
    "v = cv2.VideoCapture('croppeditaly.mp4',0)"
   ]
  },
  {
   "cell_type": "code",
   "execution_count": 66,
   "metadata": {},
   "outputs": [
    {
     "data": {
      "text/plain": [
       "99"
      ]
     },
     "execution_count": 66,
     "metadata": {},
     "output_type": "execute_result"
    }
   ],
   "source": [
    "length = int(v.get(cv2.CAP_PROP_FRAME_COUNT))\n",
    "length"
   ]
  },
  {
   "cell_type": "code",
   "execution_count": 67,
   "metadata": {},
   "outputs": [],
   "source": [
    "ret, frame = v.read()"
   ]
  },
  {
   "cell_type": "code",
   "execution_count": 68,
   "metadata": {},
   "outputs": [],
   "source": [
    "# set trackers\n",
    "k = 2\n",
    "for i in range(k):\n",
    "    height, width, layers = frame.shape\n",
    "    new_h = int(height/2)\n",
    "    new_w = int(width/2)\n",
    "    resize = cv2.resize(frame, (new_w, new_h))\n",
    "    cv2.imshow('Frame', resize)\n",
    "    bbi = cv2.selectROI('Frame', resize)\n",
    "    tracker_i = TrDict['csrt']()\n",
    "    trackers.add(tracker_i, resize, bbi)"
   ]
  },
  {
   "cell_type": "code",
   "execution_count": 69,
   "metadata": {},
   "outputs": [],
   "source": [
    "# trackers\n",
    "# tracker_i"
   ]
  },
  {
   "cell_type": "code",
   "execution_count": 70,
   "metadata": {},
   "outputs": [],
   "source": [
    "allcoords =[]\n",
    "\n",
    "for i in range(length):\n",
    "    coordlist = []\n",
    "    ret, frame = v.read()\n",
    "    if type(frame) != type(None):\n",
    "        height, width, layers = frame.shape\n",
    "        new_h = int(height/2)\n",
    "        new_w = int(width/2)\n",
    "        resize = cv2.resize(frame, (new_w, new_h))\n",
    "    else:\n",
    "        break\n",
    "\n",
    "    if not ret:\n",
    "        break\n",
    "\n",
    "    success, boxes = trackers.update(resize)\n",
    "\n",
    "    for box in boxes :\n",
    "        (x,y,w,h) = [int(a) for a in box]\n",
    "        cv2.rectangle(resize, (x,y), (x+w, y+h), (100,255,0),2)\n",
    "        coordlist.append((x+w/2, y+h))\n",
    "    \n",
    "    allcoords.append(coordlist)\n",
    "    cv2.imshow('Frame', resize)\n",
    "    key = cv2.waitKey(1) & 0xFF\n",
    "\n",
    "    if key == ord('q'):\n",
    "        break\n",
    "\n",
    "v.release()\n",
    "cv2.destroyAllWindows()"
   ]
  },
  {
   "cell_type": "code",
   "execution_count": 71,
   "metadata": {},
   "outputs": [],
   "source": [
    "import pandas as pd\n",
    "\n",
    "# columns = ['tl','bl','tr','br']\n",
    "\n",
    "# columns = ['h1','h2']\n",
    "\n",
    "columns = ['a1','a2']\n",
    "df = pd.DataFrame(data = allcoords, columns=columns)\n"
   ]
  },
  {
   "cell_type": "code",
   "execution_count": 72,
   "metadata": {},
   "outputs": [],
   "source": [
    "df.to_csv('pos/a12.csv')"
   ]
  },
  {
   "cell_type": "code",
   "execution_count": 5,
   "metadata": {},
   "outputs": [],
   "source": []
  },
  {
   "cell_type": "markdown",
   "metadata": {},
   "source": [
    "## ============================================================================"
   ]
  },
  {
   "cell_type": "code",
   "execution_count": 162,
   "metadata": {},
   "outputs": [],
   "source": [
    "df = pd.read_csv('pos/tracking_1.csv')\n",
    "pts2 = np.int32([[120,30],[120,50],[114,50],[114,30]])"
   ]
  },
  {
   "cell_type": "code",
   "execution_count": 163,
   "metadata": {},
   "outputs": [],
   "source": [
    "for i in range(len(df)):\n",
    "    n1 = [leval(str(df.iloc[i,1]))[0], str(leval(df.iloc[i,1]))[1]]\n",
    "    n2 = [leval(str(df.iloc[i,2]))[0], str(leval(df.iloc[i,2]))[1]]\n",
    "    n3 = [leval(str(df.iloc[i,3]))[0], str(leval(df.iloc[i,3]))[1]]\n",
    "    n4 = [leval(str(df.iloc[i,4]))[0], str(leval(df.iloc[i,4]))[1]]\n",
    "    refPt = [n1,n2,n3,n4]\n",
    "    pts1 = np.float32(refPt)\n",
    "    matrix, _ = cv2.findHomography(pts1, pts2, cv2.RANSAC,5.0)\n",
    "\n",
    "    for j in range(1,len(df.columns.tolist())):\n",
    "        xold = leval(df.iloc[i,j])[0]\n",
    "        yold = leval(df.iloc[i,j])[1]\n",
    "        xnew = (matrix[0][0]*xold + matrix[0][1]*yold + matrix[0][2])/(matrix[2][0]*xold + matrix[2][1]*yold + matrix[2][2])\n",
    "        ynew = (matrix[1][0]*xold + matrix[1][1]*yold + matrix[1][2])/(matrix[2][0]*xold + matrix[2][1]*yold + matrix[2][2])\n",
    "\n",
    "        df.iat[i,j] = (round(xnew,2), round(ynew,2))\n",
    "\n",
    "headers = df.columns.tolist()\n",
    "\n",
    "homeindex = [headers[i] for i in range(1,len(headers)) if 'h' in headers[i]]\n",
    "awayindex = [headers[i] for i in range(1, len(headers)) if 'a' in headers[i]]"
   ]
  },
  {
   "cell_type": "code",
   "execution_count": 164,
   "metadata": {},
   "outputs": [
    {
     "data": {
      "text/html": [
       "<div>\n",
       "<style scoped>\n",
       "    .dataframe tbody tr th:only-of-type {\n",
       "        vertical-align: middle;\n",
       "    }\n",
       "\n",
       "    .dataframe tbody tr th {\n",
       "        vertical-align: top;\n",
       "    }\n",
       "\n",
       "    .dataframe thead th {\n",
       "        text-align: right;\n",
       "    }\n",
       "</style>\n",
       "<table border=\"1\" class=\"dataframe\">\n",
       "  <thead>\n",
       "    <tr style=\"text-align: right;\">\n",
       "      <th></th>\n",
       "      <th>frame</th>\n",
       "      <th>tl</th>\n",
       "      <th>tr</th>\n",
       "      <th>br</th>\n",
       "      <th>bl</th>\n",
       "      <th>h1</th>\n",
       "      <th>h2</th>\n",
       "      <th>a1</th>\n",
       "      <th>a2</th>\n",
       "    </tr>\n",
       "  </thead>\n",
       "  <tbody>\n",
       "    <tr>\n",
       "      <th>0</th>\n",
       "      <td>1</td>\n",
       "      <td>(317.74, 40.93)</td>\n",
       "      <td>(311.36, 40.93)</td>\n",
       "      <td>(312.05, 40.89)</td>\n",
       "      <td>(317.1, 40.89)</td>\n",
       "      <td>(310.98, 40.81)</td>\n",
       "      <td>(314.29, 40.8)</td>\n",
       "      <td>(313.1, 40.81)</td>\n",
       "      <td>(311.88, 40.83)</td>\n",
       "    </tr>\n",
       "    <tr>\n",
       "      <th>1</th>\n",
       "      <td>2</td>\n",
       "      <td>(290.97, 39.5)</td>\n",
       "      <td>(285.45, 39.5)</td>\n",
       "      <td>(285.96, 39.46)</td>\n",
       "      <td>(290.34, 39.46)</td>\n",
       "      <td>(284.83, 39.38)</td>\n",
       "      <td>(287.66, 39.37)</td>\n",
       "      <td>(286.65, 39.37)</td>\n",
       "      <td>(285.65, 39.39)</td>\n",
       "    </tr>\n",
       "    <tr>\n",
       "      <th>2</th>\n",
       "      <td>3</td>\n",
       "      <td>(290.97, 39.5)</td>\n",
       "      <td>(285.45, 39.5)</td>\n",
       "      <td>(285.96, 39.46)</td>\n",
       "      <td>(290.34, 39.46)</td>\n",
       "      <td>(284.85, 39.38)</td>\n",
       "      <td>(287.67, 39.37)</td>\n",
       "      <td>(286.64, 39.37)</td>\n",
       "      <td>(285.63, 39.39)</td>\n",
       "    </tr>\n",
       "    <tr>\n",
       "      <th>3</th>\n",
       "      <td>4</td>\n",
       "      <td>(290.97, 39.5)</td>\n",
       "      <td>(285.45, 39.5)</td>\n",
       "      <td>(285.96, 39.46)</td>\n",
       "      <td>(290.34, 39.46)</td>\n",
       "      <td>(284.83, 39.38)</td>\n",
       "      <td>(287.67, 39.37)</td>\n",
       "      <td>(286.64, 39.37)</td>\n",
       "      <td>(285.61, 39.39)</td>\n",
       "    </tr>\n",
       "    <tr>\n",
       "      <th>4</th>\n",
       "      <td>5</td>\n",
       "      <td>(317.74, 40.93)</td>\n",
       "      <td>(311.36, 40.93)</td>\n",
       "      <td>(312.05, 40.89)</td>\n",
       "      <td>(317.1, 40.89)</td>\n",
       "      <td>(311.0, 40.81)</td>\n",
       "      <td>(314.29, 40.8)</td>\n",
       "      <td>(313.09, 40.81)</td>\n",
       "      <td>(311.85, 40.83)</td>\n",
       "    </tr>\n",
       "  </tbody>\n",
       "</table>\n",
       "</div>"
      ],
      "text/plain": [
       "   frame               tl               tr               br               bl  \\\n",
       "0      1  (317.74, 40.93)  (311.36, 40.93)  (312.05, 40.89)   (317.1, 40.89)   \n",
       "1      2   (290.97, 39.5)   (285.45, 39.5)  (285.96, 39.46)  (290.34, 39.46)   \n",
       "2      3   (290.97, 39.5)   (285.45, 39.5)  (285.96, 39.46)  (290.34, 39.46)   \n",
       "3      4   (290.97, 39.5)   (285.45, 39.5)  (285.96, 39.46)  (290.34, 39.46)   \n",
       "4      5  (317.74, 40.93)  (311.36, 40.93)  (312.05, 40.89)   (317.1, 40.89)   \n",
       "\n",
       "                h1               h2               a1               a2  \n",
       "0  (310.98, 40.81)   (314.29, 40.8)   (313.1, 40.81)  (311.88, 40.83)  \n",
       "1  (284.83, 39.38)  (287.66, 39.37)  (286.65, 39.37)  (285.65, 39.39)  \n",
       "2  (284.85, 39.38)  (287.67, 39.37)  (286.64, 39.37)  (285.63, 39.39)  \n",
       "3  (284.83, 39.38)  (287.67, 39.37)  (286.64, 39.37)  (285.61, 39.39)  \n",
       "4   (311.0, 40.81)   (314.29, 40.8)  (313.09, 40.81)  (311.85, 40.83)  "
      ]
     },
     "execution_count": 164,
     "metadata": {},
     "output_type": "execute_result"
    }
   ],
   "source": [
    "df.head()"
   ]
  },
  {
   "cell_type": "code",
   "execution_count": 165,
   "metadata": {},
   "outputs": [
    {
     "data": {
      "text/plain": [
       "['a1', 'a2']"
      ]
     },
     "execution_count": 165,
     "metadata": {},
     "output_type": "execute_result"
    }
   ],
   "source": [
    "homeindex\n",
    "awayindex"
   ]
  },
  {
   "cell_type": "code",
   "execution_count": 166,
   "metadata": {},
   "outputs": [],
   "source": [
    "# [i for i in range(1,len(headers))]"
   ]
  },
  {
   "cell_type": "code",
   "execution_count": 167,
   "metadata": {},
   "outputs": [],
   "source": [
    "def smootheout(x,y,sigma):\n",
    "    xsmooth = gaussian_filter1d(x,sigma)\n",
    "    ysmooth = gaussian_filter1d(y,sigma)\n",
    "    return xsmooth, ysmooth\n",
    "\n",
    "def savitzkysmoothing(x,y,sigma):\n",
    "    xsmooth = savgol_filter(x,sigma,1)\n",
    "    ysmooth = savgol_filter(y,sigma,1)\n",
    "    return xsmooth, ysmooth\n",
    "\n",
    "def smootheandfill(indexlist, sigma):\n",
    "    Df = pd.DataFrame()\n",
    "    Df['Frame'] = [i for i in range(len(df))]\n",
    "    for i in range(len(indexlist)):\n",
    "        Df['x' + str(i+1)], Df['y' + str(i+1)] = zip(*df[indexlist[i]])\n",
    "        Df['x' + str(i+1)], Df['y' + str(i+1)] = smootheout(Df['x' + str(i+1)], Df['y' + str(i+1)], sigma)\n",
    "    return Df\n",
    "\n",
    "hdf = smootheandfill(homeindex, 3)\n",
    "adf = smootheandfill(awayindex, 5)"
   ]
  },
  {
   "cell_type": "code",
   "execution_count": 168,
   "metadata": {},
   "outputs": [],
   "source": [
    "# hdf.columns[:1]\n",
    "hdf = hdf.div(10)\n",
    "# hdf"
   ]
  },
  {
   "cell_type": "code",
   "execution_count": 169,
   "metadata": {},
   "outputs": [],
   "source": [
    "adf = adf.div(10)"
   ]
  },
  {
   "cell_type": "code",
   "execution_count": 170,
   "metadata": {},
   "outputs": [],
   "source": [
    "def to_long_form(df):\n",
    "    df = pd.melt(df, id_vars = df.columns[:1], value_vars = df.columns[1:], var_name = 'player') #, value_name = 'Coordinates')\n",
    "    if len(df) !=  0:\n",
    "        df.loc[df.player.str.contains('x'), 'coordinate'] = 'x'\n",
    "        df.loc[df.player.str.contains('y'), 'coordinate'] = 'y'\n",
    "\n",
    "        df = df.dropna(axis=0, how='any')\n",
    "        df['player'] = df.player.str[1:]\n",
    "\n",
    "        df = (df.set_index(['Frame', 'player', 'coordinate'])['value']\n",
    "            .unstack()\n",
    "            .reset_index()\n",
    "            .rename_axis(None, axis=1))\n",
    "        return df\n",
    "    else:\n",
    "        return 'No data'\n",
    "\n",
    "\n",
    "df_home = to_long_form(hdf)\n",
    "df_away= to_long_form(adf)"
   ]
  },
  {
   "cell_type": "code",
   "execution_count": 171,
   "metadata": {},
   "outputs": [],
   "source": [
    "# df_home\n",
    "# df_away\n",
    "\n",
    "# a = [i for i in range(1,len(hdf))]\n",
    "# len(a)"
   ]
  },
  {
   "cell_type": "code",
   "execution_count": 172,
   "metadata": {},
   "outputs": [
    {
     "data": {
      "image/png": "[encoded data removed]",
      "text/plain": [
       "<Figure size 432x288 with 1 Axes>"
      ]
     },
     "metadata": {},
     "output_type": "display_data"
    }
   ],
   "source": [
    "pitch = Pitch(pitch_type='statsbomb', figsize = (4,8), goal_type='line', half = True, orientation='horizontal', pitch_color='#082630')\n",
    "fig, ax = pitch.draw()\n",
    "marker_kwargs = {'marker':'o', 'linestyle': 'None'}\n",
    "marker_kwargs2 = {'marker':'o', 'linestyle': 'None'}\n",
    "\n",
    "home, = ax.plot([],[], ms = 10 ,zorder = 3 ,**marker_kwargs, label='Home')  # ,zorder = 3\n",
    "away, = ax.plot([],[], ms = 10 ,zorder = 2 , **marker_kwargs2, label='Away') # ,zorder = 1\n",
    "\n",
    "def animate(i):\n",
    "    frame = i\n",
    "    home.set_data(df_home.loc[df_home.Frame == frame, 'x'], df_home.loc[df_home.Frame == frame, 'y'])\n",
    "    away.set_data(df_away.loc[df_away.Frame == frame, 'x'], df_away.loc[df_away.Frame == frame, 'y'])\n",
    "\n",
    "    return home,away\n",
    "\n",
    "anim = animation.FuncAnimation(fig, animate, frames=len(hdf), interval=100 , blit = True)\n",
    "plt.show()\n"
   ]
  },
  {
   "cell_type": "code",
   "execution_count": 173,
   "metadata": {},
   "outputs": [
    {
     "data": {
      "text/plain": [
       "<matplotlib.lines.Line2D at 0x7f9dc392b5b0>"
      ]
     },
     "execution_count": 173,
     "metadata": {},
     "output_type": "execute_result"
    }
   ],
   "source": [
    "home"
   ]
  },
  {
   "cell_type": "code",
   "execution_count": 174,
   "metadata": {},
   "outputs": [
    {
     "data": {
      "text/plain": [
       "(Series([], Name: x, dtype: float64), Series([], Name: y, dtype: float64))"
      ]
     },
     "execution_count": 174,
     "metadata": {},
     "output_type": "execute_result"
    }
   ],
   "source": [
    "df_home.loc[df_home.Frame == frame, 'x'], df_home.loc[df_home.Frame == frame, 'y']"
   ]
  },
  {
   "cell_type": "code",
   "execution_count": 175,
   "metadata": {},
   "outputs": [],
   "source": [
    "anim.save('anim/italytracking_2.mp4', dpi=300, fps=30, extra_args=['-vcodec', 'libx264'])"
   ]
  },
  {
   "cell_type": "code",
   "execution_count": 152,
   "metadata": {},
   "outputs": [],
   "source": [
    "hdf.to_csv('pos/home.csv')\n",
    "adf.to_csv('pos/away.csv')"
   ]
  },
  {
   "cell_type": "code",
   "execution_count": null,
   "metadata": {},
   "outputs": [],
   "source": []
  }
 ],
 "metadata": {
  "interpreter": {
   "hash": "84e3d28a76c8b421ab9d40343b935fd65a9e610c98603e22ea85080c24e50922"
  },
  "kernelspec": {
   "display_name": "Python 3.8.8 64-bit ('base': conda)",
   "language": "python",
   "name": "python3"
  },
  "language_info": {
   "codemirror_mode": {
    "name": "ipython",
    "version": 3
   },
   "file_extension": ".py",
   "mimetype": "text/x-python",
   "name": "python",
   "nbconvert_exporter": "python",
   "pygments_lexer": "ipython3",
   "version": "3.8.8"
  },
  "orig_nbformat": 4
 },
 "nbformat": 4,
 "nbformat_minor": 2
}
